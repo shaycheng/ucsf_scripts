{
 "cells": [
  {
   "cell_type": "code",
   "execution_count": 212,
   "metadata": {},
   "outputs": [],
   "source": [
    "import os \n",
    "import sys\n",
    "import glob\n",
    "import nibabel as nib\n",
    "import numpy as np\n",
    "import pandas as pd\n",
    "from scipy import ndimage\n",
    "from matplotlib.path import Path\n",
    "from subprocess import call\n",
    "from dipy.io.image import load_nifti, save_nifti\n",
    "from dipy.align.reslice import reslice\n",
    "from shutil import copyfile\n",
    "from subprocess import Popen, PIPE\n",
    "import csv \n",
    "from shutil import copy, move"
   ]
  },
  {
   "cell_type": "markdown",
   "metadata": {},
   "source": [
    "This script batch process T1mapping. It includes registering c23 PSIR to 1 slice of T1scout, then apply such transformation to rois which were converted to nii ahead. And get metrics for T1scout and T1mapping images on these rois. "
   ]
  },
  {
   "cell_type": "markdown",
   "metadata": {},
   "source": [
    "## make a manifest spreadsheet to specify the inputs "
   ]
  },
  {
   "cell_type": "code",
   "execution_count": 223,
   "metadata": {},
   "outputs": [
    {
     "name": "stdout",
     "output_type": "stream",
     "text": [
      "1 records to process\n"
     ]
    }
   ],
   "source": [
    "latest_manifest_path = \"/data/henry10/nico/T1mapping_MP2RAGE/script_t1mapping/manifest_psir.xlsx\"\n",
    "sheet_name = \"PSIR\"\n",
    "psir_df = pd.read_excel(latest_manifest_path, sheet_name=sheet_name,\n",
    "                                    dtype={'file_path': str, 'psir': str, 'T1scout': str})\n",
    "batch_df = psir_df[psir_df.ready == True]\n",
    "print(f'{batch_df.shape[0]} records to process')"
   ]
  },
  {
   "cell_type": "markdown",
   "metadata": {},
   "source": [
    "## define functions: roi to nifti convertion, sct_register_multimudal for c23 psir and T1scout at same timepoint, applywarp to rois, get and write median and mean metrics"
   ]
  },
  {
   "cell_type": "code",
   "execution_count": 224,
   "metadata": {
    "collapsed": true
   },
   "outputs": [],
   "source": [
    "def jim_roi_to_nifti(jim_roi, ref, name):\n",
    "    print ('collating points from %s roi file'%jim_roi)\n",
    "    rois = 0 \n",
    "    roilist = []\n",
    "    roifile = open(jim_roi, 'r')\n",
    "    lines = roifile.readlines()\n",
    "    roifile.close\n",
    "    for line in lines:\n",
    "        line = line.strip()\n",
    "        if line.startswith('Slice'):\n",
    "            z = line.split('=')[-1]\n",
    "            rois +=1\n",
    "        if line.startswith('X'):\n",
    "            parts = line.split('=')\n",
    "            x = parts[1].split(';')[0]\n",
    "            y = parts[-1]\n",
    "            roilist += [[x, -float(y), z, rois]]\n",
    "    pts = np.array(roilist, dtype='float64')\n",
    "    pts = pts[pts[:,3]==1]\n",
    "    #return pts \n",
    "\n",
    "    print ('transforming points from jim to reference space')\n",
    "    img = nib.load(ref)\n",
    "    affine = img.get_affine()\n",
    "    hdr = img.get_header()\n",
    "    voxdims = hdr.get_zooms()\n",
    "    fov = hdr.get_data_shape()\n",
    "    pts[:,0] = pts[:,0]*(1.0/voxdims[0])+fov[0]/2.0\n",
    "    pts[:,1] = pts[:,1]*(1.0/voxdims[1])+fov[1]/2.0\n",
    "    #return pts, affine, fov, voxdims\n",
    "\n",
    "    print ('filling roi')\n",
    "    roi_sort = {}\n",
    "    for pt in pts:\n",
    "        roi = pt[-1]\n",
    "        if roi not in roi_sort.keys():\n",
    "            roi_sort[roi] = {}\n",
    "        if 'slice' not in roi_sort[roi].keys():\n",
    "            roi_sort[roi]['slice'] = pt[2]\n",
    "        if 'pts' in roi_sort[roi].keys():\n",
    "            roi_sort[roi]['pts'].append(pt[:2])\n",
    "        else:\n",
    "            roi_sort[roi]['pts'] = [pt[:2]]\n",
    "    roi = np.zeros(fov)\n",
    "    for k, z in enumerate(roi_sort.keys()):\n",
    "        path = Path(roi_sort[z]['pts'])\n",
    "        for x in np.arange(fov[0]):\n",
    "            for y in np.arange(fov[1]):\n",
    "                if roi_sort[z]['slice']-2 != 1:\n",
    "                    roi[x,y] = path.contains_point([x+0.5, y+0.5])\n",
    "        print ('completed iterating through roi %i/%i' % (k+1,len(roi_sort.keys())))\n",
    "    #return roi\n",
    "\n",
    "    print ('saving roi image')\n",
    "    new_roi = nib.Nifti1Image(roi, affine)\n",
    "    New_ROI = nib.save(new_roi, os.path.join(file_path, '{}.nii.gz').format(name))\n",
    "    Nif_ROI = os.path.join(file_path, '{}.nii.gz').format(name)\n",
    "    return Nif_ROI"
   ]
  },
  {
   "cell_type": "code",
   "execution_count": 225,
   "metadata": {
    "collapsed": true
   },
   "outputs": [],
   "source": [
    "def reorder_T1():\n",
    "    img = nib.load(T1scout)\n",
    "    data = img.get_fdata()\n",
    "    new_data = data.reshape(data.shape[0], data.shape[1], 1, data.shape[2])\n",
    "    new_img = nib.Nifti1Image(new_data, img.affine)\n",
    "    T1scout_t = T1scout[:-7]+'t.nii.gz'\n",
    "    nib.save(new_img, T1scout_t)\n",
    "    return T1scout_t "
   ]
  },
  {
   "cell_type": "code",
   "execution_count": 226,
   "metadata": {
    "collapsed": true
   },
   "outputs": [],
   "source": [
    "def sct_register_multimodal():\n",
    "    T1 = os.path.join(file_path, '{}_vol5.nii.gz'.format(mseID))\n",
    "    call(['fslroi', T1scout, T1, '0', '-1', '0', '-1', '5', '1'])\n",
    "    T1stack = os.path.join(file_path, '{}_vol5-6.nii.gz'.format(mseID))\n",
    "    call(['fslmerge', '-z', T1stack, T1, T1, T1, T1, T1, T1])\n",
    "\n",
    "    psirstack = os.path.join(file_path, '{}_PSIR.nii.gz'.format(mseID))\n",
    "    call(['fslmerge', '-z', psirstack, psir, psir, psir, psir, psir])\n",
    "\n",
    "    call(['sct_get_centerline', '-i', psirstack, '-c', 't1', '-method', 'optic'])\n",
    "    call(['sct_get_centerline', '-i', T1stack, '-c', 't2', '-method', 'optic'])\n",
    "    qc = os.path.join(file_path, 'qc')\n",
    "    call(['sct_deepseg_sc', '-i', psirstack, '-c', 't1', '-ofolder', file_path, '-qc', qc])\n",
    "    call(['sct_deepseg_sc', '-i', T1stack, '-c', 't2', '-ofolder', file_path, '-qc', qc])\n",
    "    call(['rm', '-r', qc])\n",
    " \n",
    "    T1_centerline = T1stack[:-7]+'_centerline.nii.gz'\n",
    "    T1_seg = T1stack[:-7]+'_seg.nii.gz'\n",
    "    psir_centerline = psirstack[:-7]+'_centerline.nii.gz'\n",
    "    psir_seg = psirstack[:-7]+'_seg.nii.gz'       \n",
    "    #register PSIR to T1 spacs\n",
    "    call(['sct_register_multimodal', '-i', psirstack, '-iseg', psir_seg, '-ilabel', psir_centerline, '-d', T1stack, '-dseg', T1_seg, '-dlabel', T1_centerline, '-ofolder', file_path, '-param', 'step=1,type=seg,algo=centermass:step=2,type=seg,algo=bsplinesyn,slicewise=1,iter=3'])\n",
    "    warp = glob.glob(os.path.join(file_path, 'warp_{}_PSIR*').format(mseID))[0]\n",
    "    print(warp)\n",
    "    psir_reg = psirstack[:-7]+'_reg.nii.gz'\n",
    "    T1_reg = T1stack[:-7]+'_reg.nii.gz'\n",
    "    call(['fslroi', psir_reg, psir_reg, '0', '-1', '0', '-1', '0', '1'])\n",
    "    #delete tmp files\n",
    "    T1_centerline_csv = T1stack[:-7]+'_centerline.csv'\n",
    "    psir_centerline_csv = psirstack[:-7]+'_centerline.csv'\n",
    "    call(['rm', T1, psirstack, T1_reg, T1_centerline, T1_seg, psir_centerline, psir_seg, T1_centerline_csv, psir_centerline_csv])\n",
    "    return warp, T1stack"
   ]
  },
  {
   "cell_type": "code",
   "execution_count": 227,
   "metadata": {
    "collapsed": true
   },
   "outputs": [],
   "source": [
    "def warp_masks(mask, name):\n",
    "    mask_5 = mask[:-7]+'_5.nii.gz'\n",
    "    call(['fslmerge', '-z', mask_5, mask, mask, mask, mask, mask])\n",
    "    mask_reg = os.path.join(file_path, '{}_{}_reg.nii.gz'.format(mseID, name))\n",
    "    call(['sct_apply_transfo', '-i', mask_5, '-d', T1stack, '-w', warp, '-o', mask_reg, '-x', 'nn']) \n",
    "    call(['fslroi', mask_reg, mask_reg, '0', '-1', '0', '-1', '0', '1'])\n",
    "    call(['rm', mask_5])\n",
    "    return mask_reg"
   ]
  },
  {
   "cell_type": "code",
   "execution_count": 228,
   "metadata": {},
   "outputs": [],
   "source": [
    "def get_median_values(image, mask):\n",
    "    cmd = [\"fslstats\", image, \"-k\", mask, \"-P\", \"50\"]\n",
    "    proc = Popen(cmd, stdout=PIPE)\n",
    "    P_50 = [l.decode(\"utf-8\").split() for l in proc.stdout.readlines()]\n",
    "    P_50 = str(P_50)\n",
    "    P_50 = P_50.replace(\"'\",\"\").replace(\"[[\",\"\").replace(\"]]\",\"\")\n",
    "    return P_50\n",
    "def get_mean_values(image, mask):\n",
    "    cmd = [\"fslstats\", image, \"-k\", mask, \"-M\"]\n",
    "    proc = Popen(cmd, stdout=PIPE)\n",
    "    MEAN = [l.decode(\"utf-8\").split() for l in proc.stdout.readlines()]\n",
    "    MEAN = str(MEAN)\n",
    "    MEAN = MEAN.replace(\"'\",\"\").replace(\"[[\",\"\").replace(\"]]\",\"\")\n",
    "    return MEAN\n",
    "def write_to_csv(image):\n",
    "    CSV = os.path.join(file_path, '{}_metrics.csv'.format(mseID))\n",
    "    image_WM_median = get_median_values(image, WM_reg)\n",
    "    image_GM_median = get_median_values(image, GM_reg)\n",
    "    image_CSF_median = get_median_values(image, CSF_reg)\n",
    "    image_Lesion_median = get_median_values(image, LESION_reg)\n",
    "    image_WM_mean = get_mean_values(image, WM_reg)\n",
    "    image_GM_mean = get_mean_values(image, GM_reg)\n",
    "    image_CSF_mean = get_mean_values(image, CSF_reg)\n",
    "    image_Lesion_mean = get_mean_values(image, LESION_reg)\n",
    "    new_row = [image, image_WM_median, image_GM_median, image_CSF_median, image_Lesion_median, image_WM_mean, image_GM_mean, image_CSF_mean, image_Lesion_mean]\n",
    "    header = ['image_file', 'WM_median', 'GM_median', 'CSF_median', 'Lesion_medain', 'WM_mean', 'GM_mean', 'CSF_mean', 'Lesion_mean']\n",
    "    file_exists = os.path.isfile(CSV)\n",
    "    file_empty = os.stat(CSV).st_size == 0 if file_exists else True\n",
    "    with open(CSV, 'a') as f:\n",
    "        writer = csv.writer(f)\n",
    "        if file_empty:\n",
    "            writer.writerow(header)\n",
    "        writer.writerow(new_row)\n",
    "        print(new_row)"
   ]
  },
  {
   "cell_type": "code",
   "execution_count": 229,
   "metadata": {
    "collapsed": true
   },
   "outputs": [],
   "source": [
    "def get_median_values_t(image, mask):\n",
    "    cmd = [\"fslstats\", '-t', image, \"-k\", mask, \"-P\", \"50\"]\n",
    "    proc = Popen(cmd, stdout=PIPE)\n",
    "    P_50 = [l.decode(\"utf-8\").split() for l in proc.stdout.readlines()]\n",
    "    return P_50\n",
    "def get_mean_values_t(image, mask):\n",
    "    cmd = [\"fslstats\", '-t', image, \"-k\", mask, \"-M\"]\n",
    "    proc = Popen(cmd, stdout=PIPE)\n",
    "    MEAN = [l.decode(\"utf-8\").split() for l in proc.stdout.readlines()]\n",
    "    return MEAN\n",
    "def write_to_csv_t(image):\n",
    "    CSV = os.path.join(file_path, '{}_metrics.csv'.format(mseID))\n",
    "    image_WM_median = get_median_values_t(image, WM_reg)\n",
    "    image_GM_median = get_median_values_t(image, GM_reg)\n",
    "    image_CSF_median = get_median_values_t(image, CSF_reg)\n",
    "    image_Lesion_median = get_median_values_t(image, LESION_reg)\n",
    "    image_WM_mean = get_mean_values_t(image, WM_reg)\n",
    "    image_GM_mean = get_mean_values_t(image, GM_reg)\n",
    "    image_CSF_mean = get_mean_values_t(image, CSF_reg)\n",
    "    image_Lesion_mean = get_mean_values_t(image, LESION_reg)\n",
    "    for i in range(23):\n",
    "        new_row = [image[:-7]+'_{}.nii.gz'.format(i), image_WM_median[i][0], image_GM_median[i][0], image_CSF_median[i][0], image_Lesion_median[i][0], image_WM_mean[i][0], image_GM_mean[i][0], image_CSF_mean[i][0], image_Lesion_mean[i][0]]\n",
    "        with open(CSV, 'a') as f:\n",
    "            writer = csv.writer(f)\n",
    "            writer.writerow(new_row)\n",
    "            print(new_row)"
   ]
  },
  {
   "cell_type": "markdown",
   "metadata": {},
   "source": [
    "## iterate to batch processing "
   ]
  },
  {
   "cell_type": "code",
   "execution_count": 230,
   "metadata": {},
   "outputs": [
    {
     "name": "stderr",
     "output_type": "stream",
     "text": [
      "  0%|          | 0/1 [00:00<?, ?it/s]/data/henry4/pbr_env/anaconda3/lib/python3.6/site-packages/ipykernel_launcher.py:24: DeprecationWarning: get_affine method is deprecated.\n",
      "Please use the ``img.affine`` property instead.\n",
      "\n",
      "* deprecated from version: 2.1\n",
      "* Will raise <class 'nibabel.deprecator.ExpiredDeprecationError'> as of version: 4.0\n",
      "/data/henry4/pbr_env/anaconda3/lib/python3.6/site-packages/ipykernel_launcher.py:25: DeprecationWarning: get_header method is deprecated.\n",
      "Please use the ``img.header`` property instead.\n",
      "\n",
      "* deprecated from version: 2.1\n",
      "* Will raise <class 'nibabel.deprecator.ExpiredDeprecationError'> as of version: 4.0\n"
     ]
    },
    {
     "name": "stdout",
     "output_type": "stream",
     "text": [
      "/data/henry10/nico/T1mapping_MP2RAGE/older/ms6135\n",
      "collating points from /data/henry10/nico/T1mapping_MP2RAGE/older/ms6135/WM.roi roi file\n",
      "transforming points from jim to reference space\n",
      "filling roi\n",
      "completed iterating through roi 1/1\n",
      "saving roi image\n",
      "collating points from /data/henry10/nico/T1mapping_MP2RAGE/older/ms6135/GM.roi roi file\n",
      "transforming points from jim to reference space\n",
      "filling roi\n",
      "completed iterating through roi 1/1\n",
      "saving roi image\n",
      "collating points from /data/henry10/nico/T1mapping_MP2RAGE/older/ms6135/CSF.roi roi file\n",
      "transforming points from jim to reference space\n",
      "filling roi\n",
      "completed iterating through roi 1/1\n",
      "saving roi image\n",
      "collating points from /data/henry10/nico/T1mapping_MP2RAGE/older/ms6135/lesion.roi roi file\n",
      "transforming points from jim to reference space\n",
      "filling roi\n",
      "completed iterating through roi 1/1\n",
      "saving roi image\n",
      "/data/henry10/nico/T1mapping_MP2RAGE/older/ms6135/warp_mse6135_PSIR2mse6135_vol5-6.nii.gz\n",
      "/data/henry10/nico/T1mapping_MP2RAGE/older/ms6135/mse6135_lesion_reg.nii.gz\n",
      "/data/henry10/nico/T1mapping_MP2RAGE/older/ms6135/ms6135-mse6135-T1_map_param_c.nii.gz\n",
      "['/data/henry10/nico/T1mapping_MP2RAGE/older/ms6135/ms6135-mse6135-T1_map.nii.gz', '934.410767', '1130.901733', '1526.450806', '1138.920776', '931.958252', '1115.670532', '1604.049919', '1151.197754']\n",
      "['/data/henry10/nico/T1mapping_MP2RAGE/older/ms6135/ms6135-mse6135-T1_map_param_a.nii.gz', '-114.216232', '-117.393791', '-8104.228516', '-111.284996', '-113.031894', '-118.252302', '-106716.762359', '-114.623932']\n",
      "['/data/henry10/nico/T1mapping_MP2RAGE/older/ms6135/ms6135-mse6135-T1_map_param_b.nii.gz', '255.262451', '282.334656', '8200.947266', '271.182159', '256.261472', '277.830154', '106813.889216', '271.972412']\n",
      "['/data/henry10/nico/T1mapping_MP2RAGE/older/ms6135/ms6135-mse6135-T1_map_param_c.nii.gz', '0.001342', '0.001274', '0.000008', '0.001218', '0.001364', '0.001218', '0.000156', '0.001196']\n"
     ]
    },
    {
     "name": "stderr",
     "output_type": "stream",
     "text": [
      "100%|██████████| 1/1 [02:33<00:00, 153.37s/it]"
     ]
    },
    {
     "name": "stdout",
     "output_type": "stream",
     "text": [
      "['/data/henry10/nico/T1mapping_MP2RAGE/older/ms6135/ms6135-mse6135-031_pre_FA15_axial_C23_t1_mapping_2000_gating_92709_31_t_0.nii.gz', '105.000000', '124.000000', '90.000000', '121.000000', '103.400000', '121.000000', '88.066667', '120.000000']\n",
      "['/data/henry10/nico/T1mapping_MP2RAGE/older/ms6135/ms6135-mse6135-031_pre_FA15_axial_C23_t1_mapping_2000_gating_92709_31_t_1.nii.gz', '85.000000', '102.000000', '85.000000', '98.000000', '86.000000', '100.000000', '83.933333', '98.666667']\n",
      "['/data/henry10/nico/T1mapping_MP2RAGE/older/ms6135/ms6135-mse6135-031_pre_FA15_axial_C23_t1_mapping_2000_gating_92709_31_t_2.nii.gz', '69.000000', '88.000000', '80.000000', '90.000000', '69.000000', '87.000000', '78.200000', '90.333333']\n",
      "['/data/henry10/nico/T1mapping_MP2RAGE/older/ms6135/ms6135-mse6135-031_pre_FA15_axial_C23_t1_mapping_2000_gating_92709_31_t_3.nii.gz', '53.000000', '78.000000', '72.000000', '73.000000', '53.800000', '75.250000', '72.333333', '73.666667']\n",
      "['/data/henry10/nico/T1mapping_MP2RAGE/older/ms6135/ms6135-mse6135-031_pre_FA15_axial_C23_t1_mapping_2000_gating_92709_31_t_4.nii.gz', '43.000000', '60.000000', '70.000000', '65.000000', '43.200000', '57.750000', '68.800000', '63.666667']\n",
      "['/data/henry10/nico/T1mapping_MP2RAGE/older/ms6135/ms6135-mse6135-031_pre_FA15_axial_C23_t1_mapping_2000_gating_92709_31_t_5.nii.gz', '30.000000', '51.000000', '65.000000', '51.000000', '32.000000', '49.750000', '64.000000', '50.666667']\n",
      "['/data/henry10/nico/T1mapping_MP2RAGE/older/ms6135/ms6135-mse6135-031_pre_FA15_axial_C23_t1_mapping_2000_gating_92709_31_t_6.nii.gz', '22.000000', '38.000000', '62.000000', '38.000000', '21.800000', '36.750000', '60.800000', '37.000000']\n",
      "['/data/henry10/nico/T1mapping_MP2RAGE/older/ms6135/ms6135-mse6135-031_pre_FA15_axial_C23_t1_mapping_2000_gating_92709_31_t_7.nii.gz', '12.000000', '30.000000', '62.000000', '29.000000', '11.200000', '28.000000', '60.200000', '28.333333']\n",
      "['/data/henry10/nico/T1mapping_MP2RAGE/older/ms6135/ms6135-mse6135-031_pre_FA15_axial_C23_t1_mapping_2000_gating_92709_31_t_8.nii.gz', '4.000000', '20.000000', '57.000000', '19.000000', '5.000000', '19.500000', '54.866667', '18.000000']\n",
      "['/data/henry10/nico/T1mapping_MP2RAGE/older/ms6135/ms6135-mse6135-031_pre_FA15_axial_C23_t1_mapping_2000_gating_92709_31_t_9.nii.gz', '8.000000', '8.000000', '51.000000', '11.000000', '8.600000', '8.000000', '48.266667', '13.000000']\n",
      "['/data/henry10/nico/T1mapping_MP2RAGE/older/ms6135/ms6135-mse6135-031_pre_FA15_axial_C23_t1_mapping_2000_gating_92709_31_t_10.nii.gz', '14.000000', '6.000000', '47.000000', '6.000000', '14.800000', '5.250000', '46.066667', '6.000000']\n",
      "['/data/henry10/nico/T1mapping_MP2RAGE/older/ms6135/ms6135-mse6135-031_pre_FA15_axial_C23_t1_mapping_2000_gating_92709_31_t_11.nii.gz', '19.000000', '10.000000', '43.000000', '7.000000', '21.200000', '9.000000', '41.600000', '6.666667']\n",
      "['/data/henry10/nico/T1mapping_MP2RAGE/older/ms6135/ms6135-mse6135-031_pre_FA15_axial_C23_t1_mapping_2000_gating_92709_31_t_12.nii.gz', '26.000000', '17.000000', '42.000000', '11.000000', '29.000000', '15.500000', '39.400000', '11.000000']\n",
      "['/data/henry10/nico/T1mapping_MP2RAGE/older/ms6135/ms6135-mse6135-031_pre_FA15_axial_C23_t1_mapping_2000_gating_92709_31_t_13.nii.gz', '35.000000', '23.000000', '37.000000', '19.000000', '36.400000', '20.750000', '35.533333', '19.333333']\n",
      "['/data/henry10/nico/T1mapping_MP2RAGE/older/ms6135/ms6135-mse6135-031_pre_FA15_axial_C23_t1_mapping_2000_gating_92709_31_t_14.nii.gz', '40.000000', '35.000000', '33.000000', '27.000000', '39.800000', '29.500000', '32.066667', '27.666667']\n",
      "['/data/henry10/nico/T1mapping_MP2RAGE/older/ms6135/ms6135-mse6135-031_pre_FA15_axial_C23_t1_mapping_2000_gating_92709_31_t_15.nii.gz', '43.000000', '41.000000', '28.000000', '33.000000', '44.800000', '36.750000', '27.733333', '32.000000']\n",
      "['/data/henry10/nico/T1mapping_MP2RAGE/older/ms6135/ms6135-mse6135-031_pre_FA15_axial_C23_t1_mapping_2000_gating_92709_31_t_16.nii.gz', '54.000000', '47.000000', '28.000000', '39.000000', '54.000000', '43.000000', '25.266667', '39.000000']\n",
      "['/data/henry10/nico/T1mapping_MP2RAGE/older/ms6135/ms6135-mse6135-031_pre_FA15_axial_C23_t1_mapping_2000_gating_92709_31_t_17.nii.gz', '57.000000', '48.000000', '22.000000', '39.000000', '56.600000', '46.500000', '21.866667', '40.333333']\n",
      "['/data/henry10/nico/T1mapping_MP2RAGE/older/ms6135/ms6135-mse6135-031_pre_FA15_axial_C23_t1_mapping_2000_gating_92709_31_t_18.nii.gz', '61.000000', '55.000000', '20.000000', '46.000000', '61.200000', '52.750000', '19.133333', '43.666667']\n",
      "['/data/henry10/nico/T1mapping_MP2RAGE/older/ms6135/ms6135-mse6135-031_pre_FA15_axial_C23_t1_mapping_2000_gating_92709_31_t_19.nii.gz', '64.000000', '61.000000', '16.000000', '53.000000', '65.800000', '57.250000', '16.533333', '52.333333']\n",
      "['/data/henry10/nico/T1mapping_MP2RAGE/older/ms6135/ms6135-mse6135-031_pre_FA15_axial_C23_t1_mapping_2000_gating_92709_31_t_20.nii.gz', '67.000000', '63.000000', '12.000000', '59.000000', '68.400000', '61.000000', '12.266667', '58.333333']\n",
      "['/data/henry10/nico/T1mapping_MP2RAGE/older/ms6135/ms6135-mse6135-031_pre_FA15_axial_C23_t1_mapping_2000_gating_92709_31_t_21.nii.gz', '74.000000', '64.000000', '10.000000', '63.000000', '73.600000', '62.750000', '9.933333', '63.000000']\n",
      "['/data/henry10/nico/T1mapping_MP2RAGE/older/ms6135/ms6135-mse6135-031_pre_FA15_axial_C23_t1_mapping_2000_gating_92709_31_t_22.nii.gz', '78.000000', '69.000000', '7.000000', '66.000000', '77.200000', '67.500000', '7.333333', '64.000000']\n"
     ]
    },
    {
     "name": "stderr",
     "output_type": "stream",
     "text": [
      "\n"
     ]
    }
   ],
   "source": [
    "from tqdm import tqdm\n",
    "for index, row in tqdm(batch_df.iterrows(), total=batch_df.shape[0]):\n",
    "    file_path = batch_df.iloc[index][\"file_path\"]\n",
    "    psir_name = batch_df.iloc[index][\"psir\"]\n",
    "    T1scout_name = batch_df.iloc[index][\"T1scout\"]\n",
    "    mseID = batch_df.iloc[index][\"mseID\"]\n",
    "    T1mapping_name = batch_df.iloc[index][\"T1mapping\"]\n",
    "    T1mappingA_name = batch_df.iloc[index][\"T1mappingA\"]\n",
    "    T1mappingB_name = batch_df.iloc[index][\"T1mappingB\"]\n",
    "    T1mappingC_name = batch_df.iloc[index][\"T1mappingC\"]\n",
    "    print(file_path)\n",
    "    \n",
    "    # input images \n",
    "    psir = glob.glob(os.path.join(file_path, psir_name))[0]\n",
    "    T1scout = glob.glob(os.path.join(file_path, T1scout_name))[0]\n",
    "    WMroi = glob.glob(os.path.join(file_path, 'WM.roi'))[0]\n",
    "    GMroi = glob.glob(os.path.join(file_path, 'GM.roi'))[0]\n",
    "    CSFroi = glob.glob(os.path.join(file_path, 'CSF.roi'))[0]\n",
    "    LESIONroi = glob.glob(os.path.join(file_path, 'lesion.roi'))[0]\n",
    "    \n",
    "    # STEP 1: convert roi to nifti \n",
    "    WM = jim_roi_to_nifti(WMroi, psir, 'WM')\n",
    "    GM = jim_roi_to_nifti(GMroi, psir, 'GM')\n",
    "    CSF = jim_roi_to_nifti(CSFroi, psir, 'CSF')\n",
    "    LESION = jim_roi_to_nifti(LESIONroi, psir, 'lesion')\n",
    "    \n",
    "    # STEP 2: register c23 psir to T1scout slice 22\n",
    "    T1scout_t = reorder_T1()\n",
    "    warp, T1stack = sct_register_multimodal()\n",
    "    \n",
    "    # STEP 3: apply warp_c23_PSIR_t1scout to rois\n",
    "    WM_reg = warp_masks(WM, 'WM')\n",
    "    GM_reg = warp_masks(GM, 'GM')\n",
    "    CSF_reg = warp_masks(CSF, 'CSF')\n",
    "    LESION_reg = warp_masks(LESION, 'lesion')\n",
    "    print(LESION_reg)\n",
    "    call(['rm', T1stack])\n",
    "    \n",
    "    # Step 4: get metrics\n",
    "    T1mapping = glob.glob(os.path.join(file_path, T1mapping_name))[0]\n",
    "    T1mappingA = glob.glob(os.path.join(file_path, T1mappingA_name))[0]\n",
    "    T1mappingB = glob.glob(os.path.join(file_path, T1mappingB_name))[0]\n",
    "    T1mappingC = glob.glob(os.path.join(file_path, T1mappingC_name))[0]\n",
    "    print(T1mappingC)\n",
    "    for i in [T1mapping, T1mappingA, T1mappingB, T1mappingC]:\n",
    "        write_to_csv(i)\n",
    "    write_to_csv_t(T1scout_t)"
   ]
  },
  {
   "cell_type": "code",
   "execution_count": null,
   "metadata": {
    "collapsed": true
   },
   "outputs": [],
   "source": []
  },
  {
   "cell_type": "code",
   "execution_count": null,
   "metadata": {
    "collapsed": true
   },
   "outputs": [],
   "source": []
  },
  {
   "cell_type": "code",
   "execution_count": null,
   "metadata": {
    "collapsed": true
   },
   "outputs": [],
   "source": []
  },
  {
   "cell_type": "code",
   "execution_count": null,
   "metadata": {},
   "outputs": [],
   "source": []
  },
  {
   "cell_type": "code",
   "execution_count": null,
   "metadata": {
    "collapsed": true
   },
   "outputs": [],
   "source": []
  }
 ],
 "metadata": {
  "kernelspec": {
   "display_name": "Python 3",
   "language": "python",
   "name": "python3"
  },
  "language_info": {
   "codemirror_mode": {
    "name": "ipython",
    "version": 3
   },
   "file_extension": ".py",
   "mimetype": "text/x-python",
   "name": "python",
   "nbconvert_exporter": "python",
   "pygments_lexer": "ipython3",
   "version": "3.6.3"
  }
 },
 "nbformat": 4,
 "nbformat_minor": 2
}
